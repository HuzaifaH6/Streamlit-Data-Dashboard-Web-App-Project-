{
  "nbformat": 4,
  "nbformat_minor": 0,
  "metadata": {
    "colab": {
      "provenance": [],
      "authorship_tag": "ABX9TyMYekC01iC27MC4IGjSceJY",
      "include_colab_link": true
    },
    "kernelspec": {
      "name": "python3",
      "display_name": "Python 3"
    },
    "language_info": {
      "name": "python"
    }
  },
  "cells": [
    {
      "cell_type": "markdown",
      "metadata": {
        "id": "view-in-github",
        "colab_type": "text"
      },
      "source": [
        "<a href=\"https://colab.research.google.com/github/HuzaifaH6/Streamlit-Data-Dashboard-Web-App-Project-/blob/main/Streamlit_Data_Dashboard_Web_App_Project.ipynb\" target=\"_parent\"><img src=\"https://colab.research.google.com/assets/colab-badge.svg\" alt=\"Open In Colab\"/></a>"
      ]
    },
    {
      "cell_type": "code",
      "execution_count": 20,
      "metadata": {
        "id": "z-tvSFXc3wYp"
      },
      "outputs": [],
      "source": [
        "!pip install streamlit --quiet\n",
        "!pip install pandas --quiet\n",
        "!pip install pyngrok streamlit_colab --quiet"
      ]
    },
    {
      "cell_type": "code",
      "source": [
        "%%writefile web.py\n",
        "\n",
        "import streamlit as st\n",
        "import pandas as pd\n",
        "import matplotlib.pyplot as plt\n",
        "\n",
        "st.title(\"Data Dashboard\")\n",
        "file_upload = st.file_uploader(\"Choose a CSV file\" , type=\"CSV\")\n",
        "\n",
        "if file_upload is not None:\n",
        "  data = pd.read_csv(file_upload)\n",
        "\n",
        "  st.subheader(\"Data Preview\")\n",
        "  st.write(data.head())\n",
        "\n",
        "  st.subheader(\"Data Summary\")\n",
        "  st.write(data.describe())\n",
        "\n",
        "  st.subheader(\"Filter Data\")\n",
        "  columns = data.columns.tolist()\n",
        "  selected_column = st.selectbox(\"Select column to filter by \" , columns)\n",
        "  unique_values = data[selected_column].unique()\n",
        "  selected_value = st.selectbox(\"Select value\" , unique_values)\n",
        "\n",
        "  filtered_data = data[data[selected_column] == selected_value]\n",
        "  st.write(filtered_data)\n",
        "\n",
        "  st.subheader(\"Plot Data\")\n",
        "  x_column = st.selectbox(\"Select x-axis column\" , columns)\n",
        "  y_column = st.selectbox(\"Select y-axis column\" , columns)\n",
        "\n",
        "  if st.button(\"Generate button\"):\n",
        "    st.line_chart(filtered_data.set_index(x_column)[y_column])\n",
        "else:\n",
        "  st.write(\"waiting for file upload...\")"
      ],
      "metadata": {
        "id": "a6y9Tj244StA"
      },
      "execution_count": null,
      "outputs": []
    },
    {
      "cell_type": "code",
      "source": [
        "from google.colab import userdata\n",
        "userdata.get('pyngrok_authtoken')"
      ],
      "metadata": {
        "id": "Sl7R96tF8j2G"
      },
      "execution_count": null,
      "outputs": []
    },
    {
      "cell_type": "code",
      "source": [
        "!pip install ngrok --quiet\n",
        "!ngrok authtoken 2tkuMbpYd4Qn55SyRzQ5XDpZ76X_2HzjScQFwknDZeACxnKmR"
      ],
      "metadata": {
        "id": "xx1VcUJP_kmx"
      },
      "execution_count": null,
      "outputs": []
    },
    {
      "cell_type": "code",
      "source": [
        "from pyngrok import ngrok\n",
        "\n",
        "# Start Streamlit in the background\n",
        "!streamlit run web.py &>/dev/null &\n",
        "\n",
        "# Kill any previous Ngrok tunnels\n",
        "ngrok.kill()\n",
        "\n",
        "# Start a new Ngrok tunnel\n",
        "public_url = ngrok.connect(8501)\n",
        "\n",
        "print(f\"🚀 Open the Streamlit app here: {public_url}\")\n"
      ],
      "metadata": {
        "id": "ybrtEIjq_nNP"
      },
      "execution_count": null,
      "outputs": []
    }
  ]
}